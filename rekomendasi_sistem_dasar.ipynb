{
  "nbformat": 4,
  "nbformat_minor": 0,
  "metadata": {
    "colab": {
      "provenance": [],
      "gpuType": "T4"
    },
    "kernelspec": {
      "name": "python3",
      "display_name": "Python 3"
    },
    "language_info": {
      "name": "python"
    },
    "accelerator": "GPU"
  },
  "cells": [
    {
      "cell_type": "code",
      "execution_count": null,
      "metadata": {
        "colab": {
          "base_uri": "https://localhost:8080/"
        },
        "id": "S42buzR9S9w9",
        "outputId": "334337a0-8acc-4be9-b99c-f440316af644"
      },
      "outputs": [
        {
          "output_type": "stream",
          "name": "stdout",
          "text": [
            "product_id\n",
            "104    0.487805\n",
            "103    0.433148\n",
            "102    0.401754\n",
            "Name: 101, dtype: float64\n"
          ]
        }
      ],
      "source": [
        "import pandas as pd\n",
        "from sklearn.metrics.pairwise import cosine_similarity\n",
        "\n",
        "# Contoh data pengguna dan rating produk\n",
        "data = {'user_id': [1, 1, 1, 2, 2, 3, 3, 4],\n",
        "        'product_id': [101, 102, 103, 101, 104, 102, 104, 103],\n",
        "        'rating': [5, 3, 2, 4, 5, 5, 4, 3]}\n",
        "df = pd.DataFrame(data)\n",
        "\n",
        "# Membuat matriks pivot\n",
        "pivot_table = df.pivot_table(index='user_id', columns='product_id', values='rating').fillna(0)\n",
        "\n",
        "# Menghitung kesamaan produk\n",
        "product_similarity = cosine_similarity(pivot_table.T)\n",
        "product_similarity_df = pd.DataFrame(product_similarity, index=pivot_table.columns, columns=pivot_table.columns)\n",
        "\n",
        "# Fungsi untuk merekomendasikan produk\n",
        "def recommend_products(product_id, num_recommendations=3):\n",
        "    similar_products = product_similarity_df[product_id].sort_values(ascending=False)[1:num_recommendations+1]\n",
        "    return similar_products\n",
        "\n",
        "# Rekomendasi produk untuk produk_id 101\n",
        "print(recommend_products(101))\n"
      ]
    },
    {
      "cell_type": "code",
      "source": [
        "import pandas as pd\n",
        "from sklearn.feature_extraction.text import TfidfVectorizer\n",
        "from sklearn.metrics.pairwise import linear_kernel\n",
        "\n",
        "# Contoh data film\n",
        "data = {'movie_id': [1, 2, 3, 4],\n",
        "        'title': ['The Matrix', 'Titanic', 'Inception', 'The Godfather'],\n",
        "        'description': ['Sci-fi action', 'Romantic drama', 'Mind-bending thriller', 'Crime drama']}\n",
        "df = pd.DataFrame(data)\n",
        "\n",
        "# Mengubah teks menjadi fitur TF-IDF\n",
        "tfidf = TfidfVectorizer(stop_words='english')\n",
        "tfidf_matrix = tfidf.fit_transform(df['description'])\n",
        "\n",
        "# Menghitung kesamaan film\n",
        "cosine_sim = linear_kernel(tfidf_matrix, tfidf_matrix)\n",
        "\n",
        "# Fungsi untuk merekomendasikan film\n",
        "def recommend_movies(title, num_recommendations=2):\n",
        "    idx = df.index[df['title'] == title].tolist()[0]\n",
        "    sim_scores = list(enumerate(cosine_sim[idx]))\n",
        "    sim_scores = sorted(sim_scores, key=lambda x: x[1], reverse=True)[1:num_recommendations+1]\n",
        "    movie_indices = [i[0] for i in sim_scores]\n",
        "    return df['title'].iloc[movie_indices]\n",
        "\n",
        "# Rekomendasi film untuk \"The Matrix\"\n",
        "print(recommend_movies('The Matrix'))\n"
      ],
      "metadata": {
        "colab": {
          "base_uri": "https://localhost:8080/"
        },
        "id": "Kr9x-GelTPu0",
        "outputId": "37dd860b-3792-4ca6-cd4d-1639a0d45de2"
      },
      "execution_count": null,
      "outputs": [
        {
          "output_type": "stream",
          "name": "stdout",
          "text": [
            "1      Titanic\n",
            "2    Inception\n",
            "Name: title, dtype: object\n"
          ]
        }
      ]
    },
    {
      "cell_type": "code",
      "source": [
        "import pandas as pd\n",
        "from sklearn.metrics.pairwise import cosine_similarity\n",
        "\n",
        "# Contoh data pengguna dan likes konten\n",
        "data = {'user_id': [1, 1, 2, 2, 3, 3, 4, 4],\n",
        "        'content_id': [101, 102, 101, 103, 102, 104, 103, 104],\n",
        "        'like': [1, 1, 1, 1, 1, 1, 1, 1]}\n",
        "df = pd.DataFrame(data)\n",
        "\n",
        "# Membuat matriks pivot\n",
        "pivot_table = df.pivot_table(index='user_id', columns='content_id', values='like').fillna(0)\n",
        "\n",
        "# Menghitung kesamaan pengguna\n",
        "user_similarity = cosine_similarity(pivot_table)\n",
        "user_similarity_df = pd.DataFrame(user_similarity, index=pivot_table.index, columns=pivot_table.index)\n",
        "\n",
        "# Fungsi untuk merekomendasikan konten\n",
        "def recommend_content(user_id, num_recommendations=2):\n",
        "    similar_users = user_similarity_df[user_id].sort_values(ascending=False)[1:num_recommendations+1].index\n",
        "    similar_users_content = df[df['user_id'].isin(similar_users)]['content_id'].unique()\n",
        "    user_content = df[df['user_id'] == user_id]['content_id'].unique()\n",
        "    recommendations = [content for content in similar_users_content if content not in user_content]\n",
        "    return recommendations\n",
        "\n",
        "# Rekomendasi konten untuk user_id 1\n",
        "print(recommend_content(1))\n"
      ],
      "metadata": {
        "colab": {
          "base_uri": "https://localhost:8080/"
        },
        "id": "1sBHFbLgTbVp",
        "outputId": "0d298efc-906b-417a-8b82-6bfcf1c1997a"
      },
      "execution_count": null,
      "outputs": [
        {
          "output_type": "stream",
          "name": "stdout",
          "text": [
            "[103, 104]\n"
          ]
        }
      ]
    },
    {
      "cell_type": "code",
      "source": [
        "import pandas as pd\n",
        "from sklearn.metrics.pairwise import cosine_similarity\n",
        "from sklearn.feature_extraction.text import TfidfVectorizer\n",
        "import numpy as np\n",
        "\n",
        "# Contoh data penginapan\n",
        "data = {'user_id': [1, 2, 3, 4],\n",
        "        'property_id': [101, 102, 103, 104],\n",
        "        'rating': [5, 3, 4, 2],\n",
        "        'description': ['Beachfront villa', 'Mountain cabin', 'City apartment', 'Countryside house']}\n",
        "df = pd.DataFrame(data)\n",
        "\n",
        "# Collaborative Filtering\n",
        "pivot_table = df.pivot_table(index='user_id', columns='property_id', values='rating').fillna(0)\n",
        "property_similarity = cosine_similarity(pivot_table.T)\n",
        "property_similarity_df = pd.DataFrame(property_similarity, index=pivot_table.columns, columns=pivot_table.columns)\n",
        "\n",
        "# Content-Based Filtering\n",
        "tfidf = TfidfVectorizer(stop_words='english')\n",
        "tfidf_matrix = tfidf.fit_transform(df['description'])\n",
        "cosine_sim = linear_kernel(tfidf_matrix, tfidf_matrix)\n",
        "cosine_sim_df = pd.DataFrame(cosine_sim, index=df['property_id'], columns=df['property_id'])\n",
        "\n",
        "# Hybrid Function\n",
        "def hybrid_recommendations(property_id, num_recommendations=3):\n",
        "    sim_scores_collab = property_similarity_df[property_id].sort_values(ascending=False)[1:num_recommendations+1]\n",
        "    sim_scores_content = cosine_sim_df[property_id].sort_values(ascending=False)[1:num_recommendations+1]\n",
        "    hybrid_scores = sim_scores_collab * 0.5 + sim_scores_content * 0.5\n",
        "    return hybrid_scores.sort_values(ascending=False)\n",
        "\n",
        "# Rekomendasi penginapan untuk property_id 101\n",
        "print(hybrid_recommendations(101))\n"
      ],
      "metadata": {
        "colab": {
          "base_uri": "https://localhost:8080/"
        },
        "id": "oAu2LBcDTkvw",
        "outputId": "a4940eac-2dca-4ef0-e983-a94a4bfc9f61"
      },
      "execution_count": null,
      "outputs": [
        {
          "output_type": "stream",
          "name": "stdout",
          "text": [
            "property_id\n",
            "102    0.0\n",
            "103    0.0\n",
            "104    0.0\n",
            "Name: 101, dtype: float64\n"
          ]
        }
      ]
    },
    {
      "cell_type": "code",
      "source": [
        "import pandas as pd\n",
        "from sklearn.feature_extraction.text import TfidfVectorizer\n",
        "from sklearn.metrics.pairwise import linear_kernel\n",
        "\n",
        "# Contoh data kursus\n",
        "data = {'course_id': [1, 2, 3, 4],\n",
        "        'title': ['Python for Data Science', 'Introduction to Machine Learning', 'Advanced Python', 'Data Visualization with Python'],\n",
        "        'description': ['Learn Python for data science applications.', 'An introduction to machine learning concepts and techniques.', 'Advanced topics in Python programming.', 'Data visualization techniques using Python.']}\n",
        "df = pd.DataFrame(data)\n",
        "\n",
        "# Mengubah teks menjadi fitur TF-IDF\n",
        "tfidf = TfidfVectorizer(stop_words='english')\n",
        "tfidf_matrix = tfidf.fit_transform(df['description'])\n",
        "\n",
        "# Menghitung kesamaan kursus\n",
        "cosine_sim = linear_kernel(tfidf_matrix, tfidf_matrix)\n",
        "\n",
        "# Fungsi untuk merekomendasikan kursus\n",
        "def recommend_courses(title, num_recommendations=2):\n",
        "    idx = df.index[df['title'] == title].tolist()[0]\n",
        "    sim_scores = list(enumerate(cosine_sim[idx]))\n",
        "    sim_scores = sorted(sim_scores, key=lambda x: x[1], reverse=True)[1:num_recommendations+1]\n",
        "    course_indices = [i[0] for i in sim_scores]\n",
        "    return df['title'].iloc[course_indices]\n",
        "\n",
        "# Rekomendasi kursus untuk \"Python for Data Science\"\n",
        "print(recommend_courses('Python for Data Science'))\n"
      ],
      "metadata": {
        "id": "B8unv0KZUCNm",
        "outputId": "3bb3e536-7ce2-47f4-caab-23716d350b3d",
        "colab": {
          "base_uri": "https://localhost:8080/"
        }
      },
      "execution_count": null,
      "outputs": [
        {
          "output_type": "stream",
          "name": "stdout",
          "text": [
            "3    Data Visualization with Python\n",
            "2                   Advanced Python\n",
            "Name: title, dtype: object\n"
          ]
        }
      ]
    }
  ]
}